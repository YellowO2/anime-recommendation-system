{
 "cells": [
  {
   "cell_type": "markdown",
   "id": "6ae018fb",
   "metadata": {},
   "source": [
    "# Exploratory Data Analysis & Visualization\n",
    "---\n",
    "This notebook covers the exploration of our data to gather relevant insights.\n",
    "\n",
    "## Importing all the necessary libraries"
   ]
  },
  {
   "cell_type": "code",
   "execution_count": null,
   "id": "f67b1fdf",
   "metadata": {},
   "outputs": [],
   "source": [
    "# Basic Libraries\n",
    "!pip install wordcloud\n",
    "import pandas as pd\n",
    "import seaborn as sb\n",
    "import matplotlib.pyplot as plt\n",
    "import seaborn as sns\n",
    "from wordcloud import WordCloud"
   ]
  },
  {
   "cell_type": "markdown",
   "id": "af7298dc",
   "metadata": {},
   "source": [
    "## Importing Cleaned Dataset"
   ]
  },
  {
   "cell_type": "code",
   "execution_count": null,
   "id": "6e83f789",
   "metadata": {},
   "outputs": [],
   "source": [
    "# Loading clean dataset for EDA\n",
    "anime_info_2020 = pd.read_csv('Lab/Data Source Folder/anime_2020_clean.csv')\n",
    "anime_review = pd.read_csv('Lab/Data Source Folder/anime_review_clean.csv')"
   ]
  },
  {
   "cell_type": "code",
   "execution_count": null,
   "id": "fe352dcc",
   "metadata": {
    "scrolled": true
   },
   "outputs": [],
   "source": [
    "print(\"The shape of the Anime 2020 CSV is:\")\n",
    "print(anime_info_2020.shape)\n",
    "print()\n",
    "print(\"Information of the Anime 2020 CSV:\")\n",
    "print(anime_info_2020.info())\n",
    "print()\n",
    "print(\"========================================\")\n",
    "print(\"The shape of the Anime 2020 Review Rating CSV is:\")\n",
    "print(anime_review.shape)\n",
    "print()\n",
    "print(\"Information of the Anime 2020 CSV:\")\n",
    "print(anime_review.info())"
   ]
  },
  {
   "cell_type": "markdown",
   "id": "feb215ca",
   "metadata": {},
   "source": [
    "## Exploratory Data Analysis for Anime Info\n",
    "---\n",
    "Before we start the exploratory data analysis, these are the variables left in the cleaned anime info dataset.\n",
    "\n",
    "> **Uid**       : Unique ID for each anime.  \n",
    "> **Title**     : The romanisation of the Japanese title of the anime.  \n",
    "> **Synopsis**  : A brief description or summary of the anime's plot.  \n",
    "> **Genres**    : The genre(s) of the anime, seperated by commas.  \n",
    "> **Aired**     : The dates when the anime was aired.  \n",
    "> **Episodes**  : The number of episodes that the anime have.  \n",
    "> **Members**   : The number of people who have added the anime to their list on MyAnimeList.  \n",
    "> **Popularity**: The popularity rank of the anime based on members.   \n",
    "> **Score**     : The weighted score of the anime. "
   ]
  },
  {
   "cell_type": "markdown",
   "id": "b4535125",
   "metadata": {},
   "source": [
    "### Top 10 Anime Based on Popularity\n",
    "To start things off, we shall find out the top 10 anime based on popularity."
   ]
  },
  {
   "cell_type": "code",
   "execution_count": null,
   "id": "31e19410",
   "metadata": {},
   "outputs": [],
   "source": [
    "# Count the occurrences of each unique anime_uid and select the top 10\n",
    "top_10_popular = anime_info_2020.sort_values(by='popularity', ascending=True).head(10)\n",
    "\n",
    "# Plot bar plot\n",
    "plt.figure(figsize=(10, 6))\n",
    "plt.barh(top_10_popular['title'], 11 - top_10_popular['popularity'], color='skyblue')\n",
    "plt.xlabel('Popularity')\n",
    "plt.ylabel('Anime Title')\n",
    "plt.title('Top 10 Anime based on Popularity')\n",
    "plt.gca().invert_yaxis() \n",
    "plt.show()"
   ]
  },
  {
   "cell_type": "markdown",
   "id": "c7813c00",
   "metadata": {},
   "source": [
    "As seen in the barplot (with the popularity of 10 being the most popular), the top 3 anime in 2020 is Death Note followed by Attack on Titan (Shingeki no Kyojin) and Sword Art Online.\n",
    "\n",
    "Aside from knowing the top anime shows back in 2020, let us find the genres that appear most frequently in anime shows by creating a word cloud.\n",
    "\n",
    "### Wordcloud of Genres"
   ]
  },
  {
   "cell_type": "code",
   "execution_count": null,
   "id": "3e70f657",
   "metadata": {},
   "outputs": [],
   "source": [
    "# Initialize an empty list to store all genres\n",
    "all_genres = []\n",
    "\n",
    "# Iterate over each row in the DataFrame\n",
    "for genres_str in anime_info_2020['genre']:\n",
    "    # Convert the string representation of genres into a list\n",
    "    genres_list = eval(genres_str)\n",
    "    # Extend the list of genres\n",
    "    all_genres.extend(genres_list)\n",
    "\n",
    "# Generate word cloud with frequency information\n",
    "wordcloud = WordCloud(width=800, height=400, background_color='white').generate_from_frequencies(pd.Series(all_genres).value_counts())\n",
    "\n",
    "# Plot word cloud\n",
    "plt.figure(figsize=(10, 5))\n",
    "plt.imshow(wordcloud, interpolation='bilinear')\n",
    "plt.axis('off')\n",
    "plt.show()"
   ]
  },
  {
   "cell_type": "markdown",
   "id": "54290850",
   "metadata": {},
   "source": [
    "Looking at the wordcloud, we can tell at a glance that the most common genre in anime shows includes Comedy, Action, Fantasy, Sci-Fi and Adventure.\n",
    "\n",
    "However, a wordcloud does not give us a numerical value for these genres. Therefore, we would use a barplot to show the top 10 common genres in anime shows. \n",
    "\n",
    "### Barplot of Genres"
   ]
  },
  {
   "cell_type": "code",
   "execution_count": null,
   "id": "e8475fed",
   "metadata": {
    "scrolled": true
   },
   "outputs": [],
   "source": [
    "# Initialize an empty list to store genre count\n",
    "genre_counts = {}\n",
    "\n",
    "for genre in all_genres:\n",
    "    if genre in genre_counts:\n",
    "        genre_counts[genre] += 1\n",
    "    else:\n",
    "        genre_counts[genre] = 1\n",
    "\n",
    "# Sort the genre counts by frequency and select the top 10\n",
    "top_genres = sorted(genre_counts.items(), key=lambda x: x[1], reverse=True)[:10]\n",
    "top_genre_names = [genre[0] for genre in top_genres]\n",
    "top_genre_counts = [genre[1] for genre in top_genres]\n",
    "\n",
    "# Plot the bar plot\n",
    "plt.figure(figsize=(10, 6))\n",
    "plt.bar(top_genre_names, top_genre_counts, color='skyblue')\n",
    "plt.title('Top 10 Common Genres')\n",
    "plt.xlabel('Genre')\n",
    "plt.ylabel('Frequency')\n",
    "plt.xticks(rotation=45, ha='right')\n",
    "\n",
    "for i in range(len(top_genre_counts)):\n",
    "    plt.text(i, top_genre_counts[i], str(top_genre_counts[i]), ha='center', va='bottom')\n",
    "\n",
    "plt.show()"
   ]
  },
  {
   "cell_type": "markdown",
   "id": "afc7e962",
   "metadata": {},
   "source": [
    "From this bar plot and the word cloud above, we can see which genres are more basic and common amongst anime watchers which could help them discover new anime genres that they may enjoy, which would be useful for those that are just starting and does not already have any preferences as it is good to go with the basics.\n",
    "\n",
    "As seen in the barplot, most anime shows consist of the Comedy genre followed by Action, Fantasy, Sci-Fi, Drama, Adventure and Romance. As such, these genres may appear more often in the anime recommendation list."
   ]
  },
  {
   "cell_type": "markdown",
   "id": "ec462526",
   "metadata": {},
   "source": [
    "## Top 10 genres based on MAL Score"
   ]
  },
  {
   "cell_type": "code",
   "execution_count": null,
   "id": "ebf43774",
   "metadata": {
    "scrolled": false
   },
   "outputs": [],
   "source": [
    "# Initialize a list to store the list of genres with corresponding scores\n",
    "genres_with_scores = []\n",
    "\n",
    "# Iterate over each row in the DataFrame\n",
    "for index, row in anime_info_2020.iterrows():\n",
    "    # Convert the string representation of genres into a list\n",
    "    genres = row['genre'].split(', ')\n",
    "    score = int(row['score'])  \n",
    "    # Append the list of genres with the corresponding score as a tuple to the list\n",
    "    genres_with_scores.append((genres, score))\n",
    "    \n",
    "# print(genres_with_scores)\n",
    "\n",
    "# Initialize dictionaries to store scores and counts for each genre\n",
    "genre_scores = {}\n",
    "genre_counts = {}\n",
    "\n",
    "# Iterate over each entry in the list of lists\n",
    "for genres_list, score in genres_with_scores:\n",
    "    # Convert the string representation of genres into a list\n",
    "    genres = eval(','.join(genres_list))\n",
    "    # Iterate over each genre in the current entry\n",
    "    for genre in genres:\n",
    "        # Add the score to the genre's total score\n",
    "        if genre in genre_scores:\n",
    "            genre_scores[genre] += score\n",
    "            genre_counts[genre] += 1\n",
    "        else:\n",
    "            genre_scores[genre] = score\n",
    "            genre_counts[genre] = 1\n",
    "\n",
    "# Calculate the mean score for each genre\n",
    "mean_scores = {genre: genre_scores[genre] / genre_counts[genre] for genre in genre_scores}\n",
    "\n",
    "# Sort the mean scores by value and select the top 10\n",
    "top_genres = sorted(mean_scores.items(), key=lambda x: x[1], reverse=True)[:10]\n",
    "top_genre_names = [genre[0] for genre in top_genres]\n",
    "top_genre_scores = [genre[1] for genre in top_genres]\n",
    "\n",
    "# Plot the bar plot\n",
    "plt.figure(figsize=(10, 6))\n",
    "plt.bar(top_genre_names, top_genre_scores, color='skyblue')\n",
    "plt.title('Top 10 Genres by Mean Score from Animelist')\n",
    "plt.xlabel('Genre')\n",
    "plt.ylabel('Mean Score')\n",
    "plt.xticks(rotation=45, ha='right')\n",
    "\n",
    "for i in range(len(top_genre_scores)):\n",
    "    plt.text(i, top_genre_scores[i], \"{:.2f}\".format(top_genre_scores[i]), ha='center', va='bottom')\n",
    "\n",
    "plt.show()"
   ]
  },
  {
   "cell_type": "markdown",
   "id": "d6df87fb",
   "metadata": {},
   "source": [
    "The bar plot shows that the mean score from MAL do not differ much for the top 10 genres. This goes to show that the genre of an anime may not have a huge impact on its score. \n",
    "\n",
    "This shows that they are all equally as good and that genre does not affect how good an anime is."
   ]
  },
  {
   "cell_type": "markdown",
   "id": "a01286f9",
   "metadata": {},
   "source": [
    "### Score distribution for Anime shows (score given by MAL)"
   ]
  },
  {
   "cell_type": "code",
   "execution_count": null,
   "id": "54b524f9",
   "metadata": {
    "scrolled": true
   },
   "outputs": [],
   "source": [
    "# Set the figure size\n",
    "plt.figure(figsize=(10, 6))\n",
    "\n",
    "# Create a violin plot using Seaborn\n",
    "sns.violinplot(x=anime_info_2020['score'], color='lightgreen')\n",
    "\n",
    "# Add a title and labels to the plot\n",
    "plt.title('Violin Plot for Score Distribution from MyAnimeList (MAL)')\n",
    "plt.xlabel('Score')\n",
    "plt.ylabel('Frequency')\n",
    "\n",
    "# Display the plot\n",
    "plt.show()\n",
    "\n",
    "# Set the figure size\n",
    "plt.figure(figsize=(10, 6))\n",
    "\n",
    "# Create a histogram plot using Seaborn\n",
    "sns.histplot(anime_info_2020['score'], color='pink')\n",
    "\n",
    "# Add a title and labels to the plot\n",
    "plt.title('Histogram for Score Distribution from MyAnimeList (MAL)')\n",
    "plt.xlabel('Score')\n",
    "plt.ylabel('Frequency')\n",
    "\n",
    "# Display the plot\n",
    "plt.show()\n",
    "\n",
    "# Set the figure size\n",
    "plt.figure(figsize=(10, 6))\n",
    "\n",
    "# Create a boxplot using Seaborn\n",
    "sns.boxplot(x=anime_info_2020['score'], color='skyblue')\n",
    "\n",
    "# Add a title and labels to the plot\n",
    "plt.title('Box Plot Score Distribution from MyAnimeList (MAL)')\n",
    "plt.xlabel('Score')\n",
    "plt.ylabel('Frequency')\n",
    "\n",
    "# Add quartile annotations\n",
    "q1 = anime_info_2020['score'].quantile(0.25)\n",
    "q2 = anime_info_2020['score'].quantile(0.50)\n",
    "q3 = anime_info_2020['score'].quantile(0.75)\n",
    "\n",
    "plt.text(q1, 0.45, 'Q1: {:.2f}'.format(q1), verticalalignment='center', horizontalalignment='center', color='black', fontsize=8)\n",
    "plt.text(q2, 0.45, 'Q2: {:.2f}'.format(q2), verticalalignment='center', horizontalalignment='center', color='black', fontsize=8)\n",
    "plt.text(q3, 0.45, 'Q3: {:.2f}'.format(q3), verticalalignment='center', horizontalalignment='center', color='black', fontsize=8)\n",
    "\n",
    "# Display the plot\n",
    "plt.show()"
   ]
  },
  {
   "cell_type": "markdown",
   "id": "80caf70c",
   "metadata": {},
   "source": [
    "By looking at this, we now know that the median score from MAL is at 6.82. Therefore, when recommending any anime to the viewers, we can use this as a rough gauge to ensure that the ones we recommend have a good score in comparison to all the animes in the dataset. \n",
    "\n",
    "Looking at all three diagrams, we can tell at a glance that the variable, 'score' is skewed to the left. As such, there are more outliers that lie outside the lower interquartile range as compared to outliers outside the upper interquartile range. Based on the box plot, the median score of anime shows on MyAnimeList (MAL) is 6.82 with an inter-quartile range of 1.18. Therefore, when recommending anime shows, we may use the median score as a rough gauge."
   ]
  },
  {
   "cell_type": "markdown",
   "id": "dc4ae9a4",
   "metadata": {},
   "source": [
    "## Correlation Matrix for Numerical Data"
   ]
  },
  {
   "cell_type": "code",
   "execution_count": null,
   "id": "0eb78d78",
   "metadata": {
    "scrolled": false
   },
   "outputs": [],
   "source": [
    "anime_info_correlation = anime_info_2020.drop(columns=['title','synopsis','genre','aired','uid'])\n",
    "\n",
    "# Heatmap of the Correlation Matrix\n",
    "f = plt.figure(figsize=(10,10))\n",
    "sb.heatmap(anime_info_correlation.corr(), vmin = -1, vmax = 1, annot = True, fmt = \".2f\")"
   ]
  },
  {
   "cell_type": "markdown",
   "id": "6505d68b",
   "metadata": {},
   "source": [
    "From this Correlation Matrix, we can tell that they are not strongly related to each other. This is especially seen when the number of episodes is being compared to the rest, which shows that the number of episodes generally does not impact the other variables. What was surprising is that there is a negative correlation between the popularity and the number of members that watched the anime and between the popularity and the score. This shows that just because an anime was deemed popular by myanimelist, it does not mean that it has a good score or a lot of people watching.\n",
    "\n",
    "From the Correlation Matrix, we can tell that the numerical variables in the dataset is moderately correlated at best. Due to the fact that the variable, 'popularity' assigns the most popular anime with the value of 1, this causes the correlation to appear inversely related. As such, what seems to be a moderately high negative correlation with the variable 'score' is in reality a moderately high positive correlation instead. The same can be said for the variable 'members' which appear to have a moderate negative correlation with 'popularity'. In reality, it is a moderate positive correlation. \n",
    "\n",
    "Lastly, the variable 'members' have a moderate positive relation with 'score' while the rest of the numerical variables seem to have low correlations with one another."
   ]
  },
  {
   "cell_type": "markdown",
   "id": "7f59a3c5",
   "metadata": {},
   "source": [
    "### Pairplot for numerical variables"
   ]
  },
  {
   "cell_type": "code",
   "execution_count": null,
   "id": "b72fbde1",
   "metadata": {
    "scrolled": false
   },
   "outputs": [],
   "source": [
    "# Parse the airing dates to extract the years\n",
    "anime_info_2020['aired_from'] = pd.to_datetime(anime_info_2020['aired'], errors='coerce', format='mixed')\n",
    "anime_info_2020['aired_year'] = anime_info_2020['aired_from'].dt.year\n",
    "\n",
    "# Select relevant numerical variables for the pairplot\n",
    "selected_variables = ['episodes', 'score', 'popularity', 'members', 'aired_year']\n",
    "\n",
    "# Create the pairplot\n",
    "sns.pairplot(anime_info_2020[selected_variables])\n",
    "plt.show()"
   ]
  },
  {
   "cell_type": "markdown",
   "id": "e8fdfd0b",
   "metadata": {},
   "source": [
    "This pairplot showcases similar information as the correlation matrix. However with this pairplot, we can now see the relationship between all the numerical variables in our anime_info_2020 dataset and how they affect one another. This is a contrast to just having the numerical value of the correlation."
   ]
  },
  {
   "cell_type": "markdown",
   "id": "9c2a68cd",
   "metadata": {},
   "source": [
    "## Exploratory Data Analysis for Anime Review\n",
    "---\n",
    "Now we will proceed to explore the anime review dataset. These are the variables left in the cleaned anime review dataset.\n",
    " \n",
    "> **Profile**   : The username of the user.  \n",
    "> **Anime uid** : Unique ID for the anime.   \n",
    "> **Score**     : The overall score.  \n",
    "> **Scores**    : The breakdown of the score into 'Story', 'Animation', 'Sound', 'Character' and 'Enjoyment'.  \n",
    "\n",
    "### Top 10 anime based on Review ratings"
   ]
  },
  {
   "cell_type": "code",
   "execution_count": null,
   "id": "739a20c0",
   "metadata": {
    "scrolled": true
   },
   "outputs": [],
   "source": [
    "# Count the occurrences of each unique anime_uid and select the top 10\n",
    "top_10_anime_uid = anime_review['anime_uid'].value_counts().head(10)\n",
    "\n",
    "# Get the corresponding titles for the top 10 anime_uid values\n",
    "top_10_titles = anime_info_2020.loc[anime_info_2020['uid'].isin(top_10_anime_uid.index), ['uid', 'title']]\n",
    "\n",
    "# Merge the titles with the top 10 anime_uid values from anime_review\n",
    "top_10_titles_with_uid = top_10_titles.merge(top_10_anime_uid, left_on='uid', right_index=True)\n",
    "\n",
    "# Sort merged data by count in ascending order\n",
    "merged_data_sorted = top_10_titles_with_uid.sort_values(by='count', ascending=True)\n",
    "\n",
    "# Plot bar plot\n",
    "plt.figure(figsize=(10, 6))\n",
    "plt.barh(merged_data_sorted['title'], merged_data_sorted['count'], color='skyblue')\n",
    "plt.xlabel('Count')\n",
    "plt.ylabel('Anime Title')\n",
    "plt.title('Top 10 anime based on rating count')\n",
    "plt.show()\n"
   ]
  },
  {
   "cell_type": "markdown",
   "id": "afa9eda0",
   "metadata": {},
   "source": [
    "### Score distribution for Anime (scores given by mean User Review Ratings)"
   ]
  },
  {
   "cell_type": "code",
   "execution_count": null,
   "id": "0f7728da",
   "metadata": {
    "scrolled": true
   },
   "outputs": [],
   "source": [
    "# Group by 'uid' and calculate the mean score for each anime\n",
    "average_scores = anime_review.groupby('anime_uid')['score'].mean().astype(float)\n",
    "\n",
    "# Create a boxplot using Seaborn\n",
    "plt.figure(figsize=(10, 6))\n",
    "sns.boxplot(x=average_scores, color='skyblue')\n",
    "\n",
    "# Add title and labels\n",
    "plt.title('Box Plot for Average Score Distribution from User Review Ratings')\n",
    "plt.xlabel('Average Score')\n",
    "plt.ylabel('Frequency')\n",
    "\n",
    "# Calculate quartiles\n",
    "q1 = average_scores.quantile(0.25)\n",
    "q2 = average_scores.quantile(0.50)\n",
    "q3 = average_scores.quantile(0.75)\n",
    "\n",
    "# Add quartile annotations\n",
    "plt.text(q1, 0.45, 'Q1: {:.2f}'.format(q1), verticalalignment='center', horizontalalignment='center', color='black', fontsize=8)\n",
    "plt.text(q2, 0.45, 'Q2: {:.2f}'.format(q2), verticalalignment='center', horizontalalignment='center', color='black', fontsize=8)\n",
    "plt.text(q3, 0.45, 'Q3: {:.2f}'.format(q3), verticalalignment='center', horizontalalignment='center', color='black', fontsize=8)\n",
    "\n",
    "# Show the plot\n",
    "plt.show()\n",
    "\n",
    "# Set the figure size for violin plot\n",
    "plt.figure(figsize=(10, 6))\n",
    "\n",
    "# Create a violin plot using Seaborn\n",
    "sns.violinplot(x=average_scores, color='lightgreen')\n",
    "\n",
    "# Add a title and labels to the plot\n",
    "plt.title('Violin Plot for Average Score Distribution from User Review Ratings')\n",
    "plt.xlabel('Score')\n",
    "plt.ylabel('Frequency')\n",
    "\n",
    "# Display the plot\n",
    "plt.show()\n",
    "\n",
    "# Set the figure size for histogram\n",
    "plt.figure(figsize=(10, 6))\n",
    "\n",
    "# Create a histogram plot using Seaborn\n",
    "sns.histplot(average_scores, color='pink', kde=False)\n",
    "\n",
    "# Add a title and labels to the plot\n",
    "plt.title('Histogram Plot for Average Score Distribution from User Review Ratings')\n",
    "plt.xlabel('Score')\n",
    "plt.ylabel('Frequency')\n",
    "\n",
    "# Display the plot\n",
    "plt.show()"
   ]
  },
  {
   "cell_type": "markdown",
   "id": "ca064136",
   "metadata": {},
   "source": [
    "These three diagram show the distribution amongst the average rating scores of each anime. Even though it is similar to the one above whereby it is also skewed to the left, these three diagrams are based on users ratings instead of the score given by MAL. Thus when giving a recommendation based on user-based collaborative filtering, we may use the median score of 7.00 with a interquartile range of 2 as a rough gauge. \n",
    "\n",
    "where we take into account the users ratings, this would be better to gauge what ratings a recommendation should have. Since it shows a median of 7.00, we can ensure that the recommendations we give have at least an average of 7.00 for it to be more effective."
   ]
  },
  {
   "cell_type": "code",
   "execution_count": null,
   "id": "9a0c6406",
   "metadata": {},
   "outputs": [],
   "source": [
    "# Parse the airing dates to extract the years\n",
    "anime_info_2020['aired_from'] = pd.to_datetime(anime_info_2020['aired'], errors='coerce')\n",
    "anime_info_2020['aired_to'] = pd.to_datetime(anime_info_2020['aired'], errors='coerce')\n",
    "anime_info_2020['aired_year'] = anime_info_2020['aired_from'].dt.year\n",
    "\n",
    "# Plot the relationship between airing year and score\n",
    "plt.figure(figsize=(10, 6))\n",
    "plt.scatter(anime_info_2020['aired_year'], anime_info_2020['score'], color='skyblue', alpha=0.5)\n",
    "plt.xlabel('Airing Year')\n",
    "plt.ylabel('Score')\n",
    "plt.title('Relationship between Airing Year and Score')\n",
    "plt.grid(True)\n",
    "plt.show()"
   ]
  },
  {
   "cell_type": "markdown",
   "id": "fa75c4c0",
   "metadata": {},
   "source": [
    "### Relationship between mean user ratings and aired year"
   ]
  },
  {
   "cell_type": "code",
   "execution_count": null,
   "id": "fedd6244",
   "metadata": {},
   "outputs": [],
   "source": [
    "# Step 1: Calculate mean ratings for each anime\n",
    "mean_ratings = anime_review.groupby('anime_uid')['score'].mean().reset_index()\n",
    "\n",
    "# Step 2: Merge mean ratings with anime_info_2020 based on UID\n",
    "merged_data = pd.merge(anime_info_2020, mean_ratings, left_on='uid', right_on='anime_uid', how='inner')\n",
    "\n",
    "# Step 3: Plot scatter plot of aired years against mean ratings\n",
    "plt.figure(figsize=(10, 6))\n",
    "plt.scatter(merged_data['aired_year'], mean_ratings['score'])\n",
    "plt.title('Mean Ratings against Aired Year')\n",
    "plt.xlabel('Aired Year')\n",
    "plt.ylabel('Mean Rating')\n",
    "plt.grid(True)\n",
    "plt.show()\n",
    "\n",
    "# Compute the Pearson correlation coefficient\n",
    "correlation = mean_ratings['score'].corr(merged_data['aired_year'])\n",
    "\n",
    "print(\"Correlation between airing year and mean rating:\", correlation)"
   ]
  },
  {
   "cell_type": "markdown",
   "id": "cba1800a",
   "metadata": {},
   "source": [
    "This scatter plot shows the relationship between the mean user ratings and the year the anime aired. It shows that most anime aired later in the 2000s, which could be due to the rising popularity in anime. Furthermore, the year which the anime aired has a poor correlation with the mean ratings given, with a correlation of 0.197. \n",
    "\n",
    "This goes to show that despite there being new anime, users do not necessarily have to like it more. From this scatter plot, we know that the year the anime aired does not have a strong correlation with user's review rating. \n",
    "\n",
    "However, this might also not be very accurate as the data from the earlier years are significantly lesser than the newer ones, which can be seen by how there is a larger cluster from year 2000 onwards."
   ]
  }
 ],
 "metadata": {
  "kernelspec": {
   "display_name": "Python 3 (ipykernel)",
   "language": "python",
   "name": "python3"
  },
  "language_info": {
   "codemirror_mode": {
    "name": "ipython",
    "version": 3
   },
   "file_extension": ".py",
   "mimetype": "text/x-python",
   "name": "python",
   "nbconvert_exporter": "python",
   "pygments_lexer": "ipython3",
   "version": "3.11.5"
  }
 },
 "nbformat": 4,
 "nbformat_minor": 5
}

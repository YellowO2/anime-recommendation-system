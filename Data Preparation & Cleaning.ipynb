{
 "cells": [
  {
   "cell_type": "markdown",
   "id": "e206a125",
   "metadata": {},
   "source": [
    "# Data Preparation & Cleaning\n",
    "In this notebook, we will perform data preparation and cleaning tasks on our dataset.\n"
   ]
  },
  {
   "cell_type": "markdown",
   "id": "20b7f1d6",
   "metadata": {},
   "source": [
    "## Import Libraries"
   ]
  },
  {
   "cell_type": "code",
   "execution_count": 1,
   "id": "ad1f2fe3",
   "metadata": {},
   "outputs": [
    {
     "name": "stdout",
     "output_type": "stream",
     "text": [
      "Requirement already satisfied: scikit-surprise in /Users/huangyuxuan/anaconda3/lib/python3.11/site-packages (1.1.3)\r\n",
      "Requirement already satisfied: joblib>=1.0.0 in /Users/huangyuxuan/anaconda3/lib/python3.11/site-packages (from scikit-surprise) (1.2.0)\r\n",
      "Requirement already satisfied: numpy>=1.17.3 in /Users/huangyuxuan/anaconda3/lib/python3.11/site-packages (from scikit-surprise) (1.24.3)\r\n",
      "Requirement already satisfied: scipy>=1.3.2 in /Users/huangyuxuan/anaconda3/lib/python3.11/site-packages (from scikit-surprise) (1.11.1)\r\n"
     ]
    }
   ],
   "source": [
    "!pip install scikit-surprise\n"
   ]
  },
  {
   "cell_type": "code",
   "execution_count": 2,
   "id": "f7401d5e",
   "metadata": {},
   "outputs": [
    {
     "name": "stderr",
     "output_type": "stream",
     "text": [
      "/var/folders/m0/yyj_852j48v3hm1_4hqzgmw40000gn/T/ipykernel_20284/2949908147.py:11: MatplotlibDeprecationWarning: The seaborn styles shipped by Matplotlib are deprecated since 3.6, as they no longer correspond to the styles shipped by seaborn. However, they will remain available as 'seaborn-v0_8-<style>'. Alternatively, directly use the seaborn API instead.\n",
      "  plt.style.use('seaborn-colorblind')\n"
     ]
    }
   ],
   "source": [
    "import numpy as np\n",
    "import pandas as pd\n",
    "import matplotlib.pyplot as plt\n",
    "import seaborn as sns\n",
    "import warnings\n",
    "\n",
    "from surprise import Dataset, Reader, NormalPredictor, KNNBasic, KNNWithMeans, SVD, accuracy\n",
    "from surprise.model_selection import cross_validate\n",
    "\n",
    "from sklearn.neighbors import NearestNeighbors\n",
    "plt.style.use('seaborn-colorblind')\n",
    "\n",
    "np.random.seed(8)\n",
    "warnings.filterwarnings(action=\"ignore\")"
   ]
  },
  {
   "cell_type": "markdown",
   "id": "87ab821e",
   "metadata": {},
   "source": [
    "## Import dataset"
   ]
  },
  {
   "cell_type": "code",
   "execution_count": 7,
   "id": "db449e51",
   "metadata": {},
   "outputs": [
    {
     "name": "stdout",
     "output_type": "stream",
     "text": [
      "   user_id  anime_id  rating\n",
      "0        1        20      -1\n",
      "1        1        24      -1\n",
      "2        1        79      -1\n",
      "3        1       226      -1\n",
      "4        1       241      -1\n"
     ]
    }
   ],
   "source": [
    "import pandas as pd\n",
    "\n",
    "\n",
    "# Read the first half of the dataset\n",
    "first_half = pd.read_csv('datasets/rating_01.csv')\n",
    "\n",
    "# Read the second half of the dataset\n",
    "second_half = pd.read_csv('datasets/rating_02.csv')\n",
    "\n",
    "# Concatenate the two halves into a single DataFrame\n",
    "combined_df = pd.concat([first_half, second_half], ignore_index=True)\n",
    "\n",
    "# Now you have the combined DataFrame ready for further analysis\n",
    "print(combined_df.head())\n"
   ]
  },
  {
   "cell_type": "code",
   "execution_count": 29,
   "id": "bbfc3fcc",
   "metadata": {},
   "outputs": [
    {
     "data": {
      "text/html": [
       "<div>\n",
       "<style scoped>\n",
       "    .dataframe tbody tr th:only-of-type {\n",
       "        vertical-align: middle;\n",
       "    }\n",
       "\n",
       "    .dataframe tbody tr th {\n",
       "        vertical-align: top;\n",
       "    }\n",
       "\n",
       "    .dataframe thead th {\n",
       "        text-align: right;\n",
       "    }\n",
       "</style>\n",
       "<table border=\"1\" class=\"dataframe\">\n",
       "  <thead>\n",
       "    <tr style=\"text-align: right;\">\n",
       "      <th></th>\n",
       "      <th>user_id</th>\n",
       "      <th>anime_id</th>\n",
       "      <th>rating</th>\n",
       "    </tr>\n",
       "  </thead>\n",
       "  <tbody>\n",
       "    <tr>\n",
       "      <th>52399292</th>\n",
       "      <td>321373</td>\n",
       "      <td>28907</td>\n",
       "      <td>7</td>\n",
       "    </tr>\n",
       "    <tr>\n",
       "      <th>45376670</th>\n",
       "      <td>278396</td>\n",
       "      <td>384</td>\n",
       "      <td>7</td>\n",
       "    </tr>\n",
       "    <tr>\n",
       "      <th>56148714</th>\n",
       "      <td>344164</td>\n",
       "      <td>22535</td>\n",
       "      <td>9</td>\n",
       "    </tr>\n",
       "    <tr>\n",
       "      <th>15896551</th>\n",
       "      <td>97588</td>\n",
       "      <td>6351</td>\n",
       "      <td>8</td>\n",
       "    </tr>\n",
       "    <tr>\n",
       "      <th>21295721</th>\n",
       "      <td>130849</td>\n",
       "      <td>760</td>\n",
       "      <td>8</td>\n",
       "    </tr>\n",
       "  </tbody>\n",
       "</table>\n",
       "</div>"
      ],
      "text/plain": [
       "          user_id  anime_id  rating\n",
       "52399292   321373     28907       7\n",
       "45376670   278396       384       7\n",
       "56148714   344164     22535       9\n",
       "15896551    97588      6351       8\n",
       "21295721   130849       760       8"
      ]
     },
     "metadata": {},
     "output_type": "display_data"
    }
   ],
   "source": [
    "# df = pd.read_csv('datasets/anime.csv')\n",
    "\n",
    "# # Display the first few rows of the dataset\n",
    "# print(\"First 5 rows of the dataset:\")\n",
    "# print(df.head())\n",
    "\n",
    "# # Display basic information about the dataset\n",
    "# print(\"\\nDataset information:\")\n",
    "# print(df.info())\n",
    "\n",
    "# # Summary statistics\n",
    "# print(\"\\nSummary statistics:\")\n",
    "# print(df.describe())\n",
    "\n",
    "df_ratings = pd.read_csv(\"datasets/rating_1.csv\")\n",
    "df_ratings = pd.read_csv(\"datasets/rating_2.csv\")\n",
    "\n",
    "display(df_ratings.sample(5, random_state=8))\n",
    "\n",
    "# print(f\"\"\"Number of total ratings: {df_ratings.shape[0]}. \n",
    "# Number of different users: {df_ratings.user_id.nunique()}. \n",
    "# Number of different animes: {df_ratings.anime_id.nunique()}.\"\"\")"
   ]
  },
  {
   "cell_type": "markdown",
   "id": "3df92234",
   "metadata": {},
   "source": [
    "## Data Cleaning"
   ]
  },
  {
   "cell_type": "code",
   "execution_count": 31,
   "id": "ba0b0201",
   "metadata": {},
   "outputs": [],
   "source": [
    "\n",
    "# Handle missing values\n",
    "cleaned_df_ratings = df_ratings[df_ratings.rating > 0].iloc[:50000, :]\n",
    "reader = Reader(line_format='user item rating')\n",
    "data = Dataset.load_from_df(cleaned_df_ratings, reader)"
   ]
  },
  {
   "cell_type": "code",
   "execution_count": 26,
   "id": "1accec68",
   "metadata": {},
   "outputs": [
    {
     "data": {
      "image/png": "[encoded data removed]",
      "text/plain": [
       "<Figure size 1000x600 with 1 Axes>"
      ]
     },
     "metadata": {},
     "output_type": "display_data"
    }
   ],
   "source": [
    "column_to_plot = 'rating'  # The column you want to plot\n",
    "\n",
    "# Create the count plot\n",
    "plt.figure(figsize=(10, 6))\n",
    "sns.countplot(data=df_ratings, x=column_to_plot)\n",
    "\n",
    "# Add labels and title\n",
    "plt.title(\"Distribution of Ratings\")\n",
    "plt.xlabel(\"Ratings\")\n",
    "plt.ylabel(\"Count\")\n",
    "\n",
    "# Show the plot\n",
    "plt.show()"
   ]
  },
  {
   "cell_type": "markdown",
   "id": "6ed19855",
   "metadata": {},
   "source": [
    "## Save the Cleaned Dataset"
   ]
  },
  {
   "cell_type": "code",
   "execution_count": 28,
   "id": "e336c4cc",
   "metadata": {},
   "outputs": [
    {
     "name": "stdout",
     "output_type": "stream",
     "text": [
      "Cleaned dataset saved to: datasets/cleaned_ratings.csv\n"
     ]
    }
   ],
   "source": [
    "\n",
    "\n",
    "# 7. \n",
    "cleaned_file_path = 'datasets/cleaned_ratings.csv'\n",
    "df.to_csv(cleaned_file_path, index=False)\n",
    "print(\"Cleaned dataset saved to:\", cleaned_file_path)\n"
   ]
  },
  {
   "cell_type": "code",
   "execution_count": null,
   "id": "10c5d55b",
   "metadata": {},
   "outputs": [],
   "source": []
  }
 ],
 "metadata": {
  "kernelspec": {
   "display_name": "Python 3 (ipykernel)",
   "language": "python",
   "name": "python3"
  },
  "language_info": {
   "codemirror_mode": {
    "name": "ipython",
    "version": 3
   },
   "file_extension": ".py",
   "mimetype": "text/x-python",
   "name": "python",
   "nbconvert_exporter": "python",
   "pygments_lexer": "ipython3",
   "version": "3.11.5"
  }
 },
 "nbformat": 4,
 "nbformat_minor": 5
}

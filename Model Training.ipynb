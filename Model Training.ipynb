{
 "cells": [
  {
   "cell_type": "markdown",
   "id": "e789678b",
   "metadata": {},
   "source": [
    "## Import required libraries"
   ]
  },
  {
   "cell_type": "code",
   "execution_count": 2,
   "id": "47631bb1",
   "metadata": {},
   "outputs": [],
   "source": [
    "import pandas as pd\n",
    "from surprise import Dataset, Reader, KNNBasic\n",
    "from surprise.model_selection import train_test_split\n",
    "from surprise.accuracy import rmse"
   ]
  },
  {
   "cell_type": "markdown",
   "id": "2a843cf1",
   "metadata": {},
   "source": [
    "## Import cleaned dataset"
   ]
  },
  {
   "cell_type": "code",
   "execution_count": 19,
   "id": "611c37ed",
   "metadata": {},
   "outputs": [],
   "source": [
    "\n",
    "anime_reviews = pd.read_csv(\"datasets/anime_review_cleaned.csv\")\n",
    "anime_data = pd.read_csv(\"datasets/anime_2020_clean.csv\")\n",
    "\n"
   ]
  },
  {
   "cell_type": "markdown",
   "id": "5c180bd3",
   "metadata": {},
   "source": [
    "## Creating user-item matrix"
   ]
  },
  {
   "cell_type": "code",
   "execution_count": 20,
   "id": "d11f76e7",
   "metadata": {},
   "outputs": [
    {
     "data": {
      "text/html": [
       "<div>\n",
       "<style scoped>\n",
       "    .dataframe tbody tr th:only-of-type {\n",
       "        vertical-align: middle;\n",
       "    }\n",
       "\n",
       "    .dataframe tbody tr th {\n",
       "        vertical-align: top;\n",
       "    }\n",
       "\n",
       "    .dataframe thead th {\n",
       "        text-align: right;\n",
       "    }\n",
       "</style>\n",
       "<table border=\"1\" class=\"dataframe\">\n",
       "  <thead>\n",
       "    <tr style=\"text-align: right;\">\n",
       "      <th></th>\n",
       "      <th>uid</th>\n",
       "      <th>title</th>\n",
       "      <th>synopsis</th>\n",
       "      <th>genre</th>\n",
       "      <th>aired</th>\n",
       "      <th>episodes</th>\n",
       "      <th>members</th>\n",
       "      <th>popularity</th>\n",
       "      <th>link</th>\n",
       "      <th>profile</th>\n",
       "      <th>anime_uid</th>\n",
       "      <th>score</th>\n",
       "      <th>scores</th>\n",
       "    </tr>\n",
       "  </thead>\n",
       "  <tbody>\n",
       "    <tr>\n",
       "      <th>0</th>\n",
       "      <td>6</td>\n",
       "      <td>Trigun</td>\n",
       "      <td>Vash the Stampede is the man with a $$60,000,0...</td>\n",
       "      <td>['Action', 'Sci-Fi', 'Adventure', 'Comedy', 'D...</td>\n",
       "      <td>Apr 1, 1998 to Sep 30, 1998</td>\n",
       "      <td>26.0</td>\n",
       "      <td>460146</td>\n",
       "      <td>158</td>\n",
       "      <td>https://myanimelist.net/anime/6/Trigun</td>\n",
       "      <td>AxiomOpus</td>\n",
       "      <td>6</td>\n",
       "      <td>9</td>\n",
       "      <td>{'Overall': '9', 'Story': '9', 'Animation': '9...</td>\n",
       "    </tr>\n",
       "    <tr>\n",
       "      <th>1</th>\n",
       "      <td>6</td>\n",
       "      <td>Trigun</td>\n",
       "      <td>Vash the Stampede is the man with a $$60,000,0...</td>\n",
       "      <td>['Action', 'Sci-Fi', 'Adventure', 'Comedy', 'D...</td>\n",
       "      <td>Apr 1, 1998 to Sep 30, 1998</td>\n",
       "      <td>26.0</td>\n",
       "      <td>460146</td>\n",
       "      <td>158</td>\n",
       "      <td>https://myanimelist.net/anime/6/Trigun</td>\n",
       "      <td>DanteMustDie8907</td>\n",
       "      <td>6</td>\n",
       "      <td>8</td>\n",
       "      <td>{'Overall': '8', 'Story': '8', 'Animation': '5...</td>\n",
       "    </tr>\n",
       "    <tr>\n",
       "      <th>2</th>\n",
       "      <td>6</td>\n",
       "      <td>Trigun</td>\n",
       "      <td>Vash the Stampede is the man with a $$60,000,0...</td>\n",
       "      <td>['Action', 'Sci-Fi', 'Adventure', 'Comedy', 'D...</td>\n",
       "      <td>Apr 1, 1998 to Sep 30, 1998</td>\n",
       "      <td>26.0</td>\n",
       "      <td>460146</td>\n",
       "      <td>158</td>\n",
       "      <td>https://myanimelist.net/anime/6/Trigun</td>\n",
       "      <td>OkazukiIchigo</td>\n",
       "      <td>6</td>\n",
       "      <td>10</td>\n",
       "      <td>{'Overall': '10', 'Story': '10', 'Animation': ...</td>\n",
       "    </tr>\n",
       "    <tr>\n",
       "      <th>3</th>\n",
       "      <td>6</td>\n",
       "      <td>Trigun</td>\n",
       "      <td>Vash the Stampede is the man with a $$60,000,0...</td>\n",
       "      <td>['Action', 'Sci-Fi', 'Adventure', 'Comedy', 'D...</td>\n",
       "      <td>Apr 1, 1998 to Sep 30, 1998</td>\n",
       "      <td>26.0</td>\n",
       "      <td>460146</td>\n",
       "      <td>158</td>\n",
       "      <td>https://myanimelist.net/anime/6/Trigun</td>\n",
       "      <td>cobrascope</td>\n",
       "      <td>6</td>\n",
       "      <td>9</td>\n",
       "      <td>{'Overall': '9', 'Story': '0', 'Animation': '0...</td>\n",
       "    </tr>\n",
       "    <tr>\n",
       "      <th>4</th>\n",
       "      <td>6</td>\n",
       "      <td>Trigun</td>\n",
       "      <td>Vash the Stampede is the man with a $$60,000,0...</td>\n",
       "      <td>['Action', 'Sci-Fi', 'Adventure', 'Comedy', 'D...</td>\n",
       "      <td>Apr 1, 1998 to Sep 30, 1998</td>\n",
       "      <td>26.0</td>\n",
       "      <td>460146</td>\n",
       "      <td>158</td>\n",
       "      <td>https://myanimelist.net/anime/6/Trigun</td>\n",
       "      <td>MrStealYourNanay</td>\n",
       "      <td>6</td>\n",
       "      <td>9</td>\n",
       "      <td>{'Overall': '9', 'Story': '10', 'Animation': '...</td>\n",
       "    </tr>\n",
       "  </tbody>\n",
       "</table>\n",
       "</div>"
      ],
      "text/plain": [
       "   uid   title                                           synopsis  \\\n",
       "0    6  Trigun  Vash the Stampede is the man with a $$60,000,0...   \n",
       "1    6  Trigun  Vash the Stampede is the man with a $$60,000,0...   \n",
       "2    6  Trigun  Vash the Stampede is the man with a $$60,000,0...   \n",
       "3    6  Trigun  Vash the Stampede is the man with a $$60,000,0...   \n",
       "4    6  Trigun  Vash the Stampede is the man with a $$60,000,0...   \n",
       "\n",
       "                                               genre  \\\n",
       "0  ['Action', 'Sci-Fi', 'Adventure', 'Comedy', 'D...   \n",
       "1  ['Action', 'Sci-Fi', 'Adventure', 'Comedy', 'D...   \n",
       "2  ['Action', 'Sci-Fi', 'Adventure', 'Comedy', 'D...   \n",
       "3  ['Action', 'Sci-Fi', 'Adventure', 'Comedy', 'D...   \n",
       "4  ['Action', 'Sci-Fi', 'Adventure', 'Comedy', 'D...   \n",
       "\n",
       "                         aired  episodes  members  popularity  \\\n",
       "0  Apr 1, 1998 to Sep 30, 1998      26.0   460146         158   \n",
       "1  Apr 1, 1998 to Sep 30, 1998      26.0   460146         158   \n",
       "2  Apr 1, 1998 to Sep 30, 1998      26.0   460146         158   \n",
       "3  Apr 1, 1998 to Sep 30, 1998      26.0   460146         158   \n",
       "4  Apr 1, 1998 to Sep 30, 1998      26.0   460146         158   \n",
       "\n",
       "                                     link           profile  anime_uid  score  \\\n",
       "0  https://myanimelist.net/anime/6/Trigun         AxiomOpus          6      9   \n",
       "1  https://myanimelist.net/anime/6/Trigun  DanteMustDie8907          6      8   \n",
       "2  https://myanimelist.net/anime/6/Trigun     OkazukiIchigo          6     10   \n",
       "3  https://myanimelist.net/anime/6/Trigun        cobrascope          6      9   \n",
       "4  https://myanimelist.net/anime/6/Trigun  MrStealYourNanay          6      9   \n",
       "\n",
       "                                              scores  \n",
       "0  {'Overall': '9', 'Story': '9', 'Animation': '9...  \n",
       "1  {'Overall': '8', 'Story': '8', 'Animation': '5...  \n",
       "2  {'Overall': '10', 'Story': '10', 'Animation': ...  \n",
       "3  {'Overall': '9', 'Story': '0', 'Animation': '0...  \n",
       "4  {'Overall': '9', 'Story': '10', 'Animation': '...  "
      ]
     },
     "execution_count": 20,
     "metadata": {},
     "output_type": "execute_result"
    }
   ],
   "source": [
    "\n",
    "## REMOVE LATER MAYBE-------\n",
    "reviews_data = reviews_data.drop(['text', 'uid', 'link'], axis=1)\n",
    "anime_data = anime_data.drop('score', axis=1)\n",
    "##THIS LINE -------\n",
    "\n",
    "# Merge data\n",
    "merged_data = pd.merge(anime_data, reviews_data, left_on='uid', right_on='anime_uid')\n",
    "merged_data.head()\n"
   ]
  },
  {
   "cell_type": "markdown",
   "id": "c6148dbd",
   "metadata": {},
   "source": [
    "## Model Training: User-based Collaborative training"
   ]
  },
  {
   "cell_type": "code",
   "execution_count": 5,
   "id": "0ea51cd0",
   "metadata": {},
   "outputs": [
    {
     "name": "stdout",
     "output_type": "stream",
     "text": [
      "Computing the cosine similarity matrix...\n",
      "Done computing similarity matrix.\n",
      "RMSE: 1.8969\n",
      "RMSE: 1.896932641007293\n",
      "Recommended Anime Titles:\n",
      "Gintama Movie 2: Kanketsu-hen - Yorozuya yo Eien Nare\n",
      "Clannad: After Story\n",
      "Saraiya Goyou\n",
      "Kuroko no Basket 2nd Season NG-shuu\n",
      "Bungou Stray Dogs: Dead Apple\n",
      "Les Misérables: Shoujo Cosette\n",
      "Kuroko no Basket: Tip Off\n",
      "Flanders no Inu (Movie)\n",
      "Terra e... (TV)\n",
      "High☆Speed!: Free! Starting Days\n",
      "Gintama Movie 2: Kanketsu-hen - Yorozuya yo Eien Nare\n",
      "Clannad: After Story\n",
      "Saraiya Goyou\n",
      "Kuroko no Basket 2nd Season NG-shuu\n",
      "Bungou Stray Dogs: Dead Apple\n",
      "Les Misérables: Shoujo Cosette\n",
      "Kuroko no Basket: Tip Off\n",
      "Flanders no Inu (Movie)\n",
      "Terra e... (TV)\n",
      "High☆Speed!: Free! Starting Days\n"
     ]
    }
   ],
   "source": [
    "\n",
    "# Define rating scale\n",
    "reader = Reader(rating_scale=(1, 10))\n",
    "\n",
    "# Load data into Surprise dataset format\n",
    "data = Dataset.load_from_df(merged_data[['profile', 'uid', 'score']], reader)\n",
    "\n",
    "# Split data into train and test sets\n",
    "trainset, testset = train_test_split(data, test_size=0.2, random_state=42)\n",
    "\n",
    "# Build user-based collaborative filtering model\n",
    "sim_options = {'name': 'cosine', 'user_based': True}\n",
    "model = KNNBasic(sim_options=sim_options)\n",
    "model.fit(trainset)\n",
    "\n",
    "# Make predictions\n",
    "predictions = model.test(testset)\n",
    "\n",
    "# Evaluate model\n",
    "accuracy = rmse(predictions)\n",
    "print(\"RMSE:\", accuracy)\n",
    "\n",
    "\n",
    "\n",
    "# Generate recommendations for a specific user\n",
    "user_id = 'skrn'\n",
    "anime_ids = [uid for uid in anime_data['uid'].values if uid not in merged_data[merged_data['profile'] == user_id]['uid'].values]\n",
    "\n",
    "# Predict ratings for items not rated by the user\n",
    "predicted_ratings = {}\n",
    "for anime_id in anime_ids:\n",
    "    predicted_rating = model.predict(user_id, anime_id).est\n",
    "    predicted_ratings[anime_id] = predicted_rating\n",
    "\n",
    "# Sort predicted ratings and recommend top N items\n",
    "top_n = 10\n",
    "recommended_anime_ids = sorted(predicted_ratings, key=predicted_ratings.get, reverse=True)[:top_n]\n",
    "\n",
    "# Print recommended anime titles\n",
    "recommended_anime_titles = anime_data[anime_data['uid'].isin(recommended_anime_ids)]['title'].values\n",
    "print(\"Recommended Anime Titles:\")\n",
    "for title in recommended_anime_titles:\n",
    "    print(title)\n"
   ]
  },
  {
   "cell_type": "markdown",
   "id": "82dabe51",
   "metadata": {},
   "source": [
    "## Checking accuracy"
   ]
  },
  {
   "cell_type": "code",
   "execution_count": 6,
   "id": "c577aa99",
   "metadata": {},
   "outputs": [],
   "source": [
    "# from surprise import accuracy\n",
    "\n",
    "# # Calculate RMSE and MAE\n",
    "# rmse = accuracy.rmse(predictions)\n",
    "# mae = accuracy.mae(predictions)\n",
    "\n",
    "# print(\"RMSE:\", rmse)\n",
    "# print(\"MAE:\", mae)\n"
   ]
  },
  {
   "cell_type": "markdown",
   "id": "2c7db201",
   "metadata": {},
   "source": [
    "## Model testing"
   ]
  },
  {
   "cell_type": "code",
   "execution_count": 7,
   "id": "ace80a4d",
   "metadata": {},
   "outputs": [],
   "source": [
    "### Test for a user in the dataset"
   ]
  },
  {
   "cell_type": "code",
   "execution_count": 8,
   "id": "16e96fe0",
   "metadata": {},
   "outputs": [
    {
     "data": {
      "text/html": [
       "<div>\n",
       "<style scoped>\n",
       "    .dataframe tbody tr th:only-of-type {\n",
       "        vertical-align: middle;\n",
       "    }\n",
       "\n",
       "    .dataframe tbody tr th {\n",
       "        vertical-align: top;\n",
       "    }\n",
       "\n",
       "    .dataframe thead th {\n",
       "        text-align: right;\n",
       "    }\n",
       "</style>\n",
       "<table border=\"1\" class=\"dataframe\">\n",
       "  <thead>\n",
       "    <tr style=\"text-align: right;\">\n",
       "      <th></th>\n",
       "      <th>uid</th>\n",
       "      <th>title</th>\n",
       "      <th>synopsis</th>\n",
       "      <th>genre</th>\n",
       "      <th>aired</th>\n",
       "      <th>episodes</th>\n",
       "      <th>members</th>\n",
       "      <th>popularity</th>\n",
       "      <th>ranked</th>\n",
       "      <th>img_url</th>\n",
       "      <th>link</th>\n",
       "    </tr>\n",
       "  </thead>\n",
       "  <tbody>\n",
       "    <tr>\n",
       "      <th>696</th>\n",
       "      <td>10165</td>\n",
       "      <td>Nichijou</td>\n",
       "      <td>Nichijou  primarily focuses on the daily antic...</td>\n",
       "      <td>['Slice of Life', 'Comedy', 'School', 'Shounen']</td>\n",
       "      <td>Apr 3, 2011 to Sep 25, 2011</td>\n",
       "      <td>26.0</td>\n",
       "      <td>497276</td>\n",
       "      <td>137</td>\n",
       "      <td>97.0</td>\n",
       "      <td>https://cdn.myanimelist.net/images/anime/3/756...</td>\n",
       "      <td>https://myanimelist.net/anime/10165/Nichijou</td>\n",
       "    </tr>\n",
       "    <tr>\n",
       "      <th>16741</th>\n",
       "      <td>10165</td>\n",
       "      <td>Nichijou</td>\n",
       "      <td>Nichijou  primarily focuses on the daily antic...</td>\n",
       "      <td>['Slice of Life', 'Comedy', 'School', 'Shounen']</td>\n",
       "      <td>Apr 3, 2011 to Sep 25, 2011</td>\n",
       "      <td>26.0</td>\n",
       "      <td>497276</td>\n",
       "      <td>137</td>\n",
       "      <td>97.0</td>\n",
       "      <td>https://cdn.myanimelist.net/images/anime/3/756...</td>\n",
       "      <td>https://myanimelist.net/anime/10165/Nichijou</td>\n",
       "    </tr>\n",
       "  </tbody>\n",
       "</table>\n",
       "</div>"
      ],
      "text/plain": [
       "         uid     title                                           synopsis  \\\n",
       "696    10165  Nichijou  Nichijou  primarily focuses on the daily antic...   \n",
       "16741  10165  Nichijou  Nichijou  primarily focuses on the daily antic...   \n",
       "\n",
       "                                                  genre  \\\n",
       "696    ['Slice of Life', 'Comedy', 'School', 'Shounen']   \n",
       "16741  ['Slice of Life', 'Comedy', 'School', 'Shounen']   \n",
       "\n",
       "                             aired  episodes  members  popularity  ranked  \\\n",
       "696    Apr 3, 2011 to Sep 25, 2011      26.0   497276         137    97.0   \n",
       "16741  Apr 3, 2011 to Sep 25, 2011      26.0   497276         137    97.0   \n",
       "\n",
       "                                                 img_url  \\\n",
       "696    https://cdn.myanimelist.net/images/anime/3/756...   \n",
       "16741  https://cdn.myanimelist.net/images/anime/3/756...   \n",
       "\n",
       "                                               link  \n",
       "696    https://myanimelist.net/anime/10165/Nichijou  \n",
       "16741  https://myanimelist.net/anime/10165/Nichijou  "
      ]
     },
     "execution_count": 8,
     "metadata": {},
     "output_type": "execute_result"
    }
   ],
   "source": [
    "#test\n",
    "anime_data[anime_data['uid']==10165]"
   ]
  },
  {
   "cell_type": "markdown",
   "id": "1051aabd",
   "metadata": {},
   "source": [
    "### Testing by inputing your liked animes"
   ]
  },
  {
   "cell_type": "code",
   "execution_count": 9,
   "id": "cf54555e",
   "metadata": {
    "scrolled": true
   },
   "outputs": [
    {
     "name": "stdout",
     "output_type": "stream",
     "text": [
      "Recommended Anime Titles:\n",
      "Haikyuu!! Second Season\n",
      "Shigatsu wa Kimi no Uso\n",
      "Made in Abyss\n",
      "Fullmetal Alchemist: Brotherhood\n",
      "Kizumonogatari III: Reiketsu-hen\n",
      "Mob Psycho 100 II\n",
      "Sen to Chihiro no Kamikakushi\n",
      "Kimetsu no Yaiba\n",
      "Owarimonogatari 2nd Season\n",
      "Code Geass: Hangyaku no Lelouch R2\n",
      "Haikyuu!! Second Season\n",
      "Shigatsu wa Kimi no Uso\n",
      "Made in Abyss\n",
      "Fullmetal Alchemist: Brotherhood\n",
      "Kizumonogatari III: Reiketsu-hen\n",
      "Mob Psycho 100 II\n",
      "Sen to Chihiro no Kamikakushi\n",
      "Kimetsu no Yaiba\n",
      "Owarimonogatari 2nd Season\n",
      "Code Geass: Hangyaku no Lelouch R2\n"
     ]
    }
   ],
   "source": [
    "\n",
    "# hunter x hunter, tokyo ghoul, Ansatsu_Kyoushitsu, Kono_Subarashii_Sekai_ni_Shukufuku_wo\n",
    "#Kaguya-sama, Nichijou\n",
    "\n",
    "anime_ids = anime_data.uid.unique()\n",
    "liked_anime_ids = [11061, 22319, 40748, 24833, 30831, 37999, 10165]\n",
    "\n",
    "# Predict ratings for animes i have not watched\n",
    "predicted_ratings = {}\n",
    "for anime_id in anime_ids:\n",
    "    if anime_id not in liked_anime_ids:\n",
    "        predicted_rating = model.predict(uid=None, iid=anime_id).est\n",
    "        predicted_ratings[anime_id] = predicted_rating\n",
    "\n",
    "# Sort predicted ratings and recommend top N items\n",
    "top_n = 10\n",
    "recommended_anime_ids = sorted(predicted_ratings, key=predicted_ratings.get, reverse=True)[:top_n]\n",
    "\n",
    "# Print recommended anime titles\n",
    "recommended_anime_titles = anime_data[anime_data['uid'].isin(recommended_anime_ids)]['title'].values\n",
    "print(\"Recommended Anime Titles:\")\n",
    "for title in recommended_anime_titles:\n",
    "    print(title)\n",
    "\n"
   ]
  },
  {
   "cell_type": "markdown",
   "id": "32bfda96",
   "metadata": {},
   "source": [
    "### SVD Approach"
   ]
  },
  {
   "cell_type": "code",
   "execution_count": 10,
   "id": "552ee9ac",
   "metadata": {},
   "outputs": [
    {
     "name": "stdout",
     "output_type": "stream",
     "text": [
      "RMSE: 1.0389\n",
      "RMSE: 1.0389390573968855\n"
     ]
    }
   ],
   "source": [
    "from surprise import SVD\n",
    "from surprise.model_selection import cross_validate\n",
    "\n",
    "# Define rating scale\n",
    "reader = Reader(rating_scale=(1, 10))\n",
    "\n",
    "# Load data into Surprise dataset format\n",
    "data = Dataset.load_from_df(merged_data[['profile', 'uid', 'score']], reader)\n",
    "\n",
    "# Split data into train and test sets\n",
    "trainset, testset = train_test_split(data, test_size=0.2, random_state=42)\n",
    "\n",
    "# Build SVD collaborative filtering model\n",
    "model = SVD()\n",
    "\n",
    "# Train the model\n",
    "model.fit(trainset)\n",
    "\n",
    "# Make predictions\n",
    "predictions = model.test(testset)\n",
    "\n",
    "# Evaluate model\n",
    "accuracy = rmse(predictions)\n",
    "print(\"RMSE:\", accuracy)\n"
   ]
  },
  {
   "cell_type": "code",
   "execution_count": 11,
   "id": "f60b67d1",
   "metadata": {},
   "outputs": [
    {
     "ename": "ValueError",
     "evalue": "Index contains duplicate entries, cannot reshape",
     "output_type": "error",
     "traceback": [
      "\u001b[0;31m---------------------------------------------------------------------------\u001b[0m",
      "\u001b[0;31mValueError\u001b[0m                                Traceback (most recent call last)",
      "Cell \u001b[0;32mIn[11], line 7\u001b[0m\n\u001b[1;32m      4\u001b[0m df_predictions \u001b[38;5;241m=\u001b[39m pd\u001b[38;5;241m.\u001b[39mDataFrame(predictions, columns\u001b[38;5;241m=\u001b[39m[\u001b[38;5;124m'\u001b[39m\u001b[38;5;124muid\u001b[39m\u001b[38;5;124m'\u001b[39m, \u001b[38;5;124m'\u001b[39m\u001b[38;5;124miid\u001b[39m\u001b[38;5;124m'\u001b[39m, \u001b[38;5;124m'\u001b[39m\u001b[38;5;124mactual\u001b[39m\u001b[38;5;124m'\u001b[39m, \u001b[38;5;124m'\u001b[39m\u001b[38;5;124mpredicted\u001b[39m\u001b[38;5;124m'\u001b[39m, \u001b[38;5;124m'\u001b[39m\u001b[38;5;124mdetails\u001b[39m\u001b[38;5;124m'\u001b[39m])\n\u001b[1;32m      6\u001b[0m \u001b[38;5;66;03m# Pivot predictions DataFrame to create a user-item matrix\u001b[39;00m\n\u001b[0;32m----> 7\u001b[0m predicted_matrix \u001b[38;5;241m=\u001b[39m df_predictions\u001b[38;5;241m.\u001b[39mpivot(index\u001b[38;5;241m=\u001b[39m\u001b[38;5;124m'\u001b[39m\u001b[38;5;124muid\u001b[39m\u001b[38;5;124m'\u001b[39m, columns\u001b[38;5;241m=\u001b[39m\u001b[38;5;124m'\u001b[39m\u001b[38;5;124miid\u001b[39m\u001b[38;5;124m'\u001b[39m, values\u001b[38;5;241m=\u001b[39m\u001b[38;5;124m'\u001b[39m\u001b[38;5;124mpredicted\u001b[39m\u001b[38;5;124m'\u001b[39m)\n\u001b[1;32m      9\u001b[0m \u001b[38;5;66;03m# Create heatmap of predicted ratings\u001b[39;00m\n\u001b[1;32m     10\u001b[0m plt\u001b[38;5;241m.\u001b[39mfigure(figsize\u001b[38;5;241m=\u001b[39m(\u001b[38;5;241m10\u001b[39m, \u001b[38;5;241m8\u001b[39m))\n",
      "File \u001b[0;32m~/anaconda3/lib/python3.11/site-packages/pandas/core/frame.py:8414\u001b[0m, in \u001b[0;36mDataFrame.pivot\u001b[0;34m(self, columns, index, values)\u001b[0m\n\u001b[1;32m   8409\u001b[0m \u001b[38;5;129m@Substitution\u001b[39m(\u001b[38;5;124m\"\u001b[39m\u001b[38;5;124m\"\u001b[39m)\n\u001b[1;32m   8410\u001b[0m \u001b[38;5;129m@Appender\u001b[39m(_shared_docs[\u001b[38;5;124m\"\u001b[39m\u001b[38;5;124mpivot\u001b[39m\u001b[38;5;124m\"\u001b[39m])\n\u001b[1;32m   8411\u001b[0m \u001b[38;5;28;01mdef\u001b[39;00m \u001b[38;5;21mpivot\u001b[39m(\u001b[38;5;28mself\u001b[39m, \u001b[38;5;241m*\u001b[39m, columns, index\u001b[38;5;241m=\u001b[39mlib\u001b[38;5;241m.\u001b[39mNoDefault, values\u001b[38;5;241m=\u001b[39mlib\u001b[38;5;241m.\u001b[39mNoDefault) \u001b[38;5;241m-\u001b[39m\u001b[38;5;241m>\u001b[39m DataFrame:\n\u001b[1;32m   8412\u001b[0m     \u001b[38;5;28;01mfrom\u001b[39;00m \u001b[38;5;21;01mpandas\u001b[39;00m\u001b[38;5;21;01m.\u001b[39;00m\u001b[38;5;21;01mcore\u001b[39;00m\u001b[38;5;21;01m.\u001b[39;00m\u001b[38;5;21;01mreshape\u001b[39;00m\u001b[38;5;21;01m.\u001b[39;00m\u001b[38;5;21;01mpivot\u001b[39;00m \u001b[38;5;28;01mimport\u001b[39;00m pivot\n\u001b[0;32m-> 8414\u001b[0m     \u001b[38;5;28;01mreturn\u001b[39;00m pivot(\u001b[38;5;28mself\u001b[39m, index\u001b[38;5;241m=\u001b[39mindex, columns\u001b[38;5;241m=\u001b[39mcolumns, values\u001b[38;5;241m=\u001b[39mvalues)\n",
      "File \u001b[0;32m~/anaconda3/lib/python3.11/site-packages/pandas/core/reshape/pivot.py:557\u001b[0m, in \u001b[0;36mpivot\u001b[0;34m(data, columns, index, values)\u001b[0m\n\u001b[1;32m    553\u001b[0m         indexed \u001b[38;5;241m=\u001b[39m data\u001b[38;5;241m.\u001b[39m_constructor_sliced(data[values]\u001b[38;5;241m.\u001b[39m_values, index\u001b[38;5;241m=\u001b[39mmultiindex)\n\u001b[1;32m    554\u001b[0m \u001b[38;5;66;03m# error: Argument 1 to \"unstack\" of \"DataFrame\" has incompatible type \"Union\u001b[39;00m\n\u001b[1;32m    555\u001b[0m \u001b[38;5;66;03m# [List[Any], ExtensionArray, ndarray[Any, Any], Index, Series]\"; expected\u001b[39;00m\n\u001b[1;32m    556\u001b[0m \u001b[38;5;66;03m# \"Hashable\"\u001b[39;00m\n\u001b[0;32m--> 557\u001b[0m result \u001b[38;5;241m=\u001b[39m indexed\u001b[38;5;241m.\u001b[39munstack(columns_listlike)  \u001b[38;5;66;03m# type: ignore[arg-type]\u001b[39;00m\n\u001b[1;32m    558\u001b[0m result\u001b[38;5;241m.\u001b[39mindex\u001b[38;5;241m.\u001b[39mnames \u001b[38;5;241m=\u001b[39m [\n\u001b[1;32m    559\u001b[0m     name \u001b[38;5;28;01mif\u001b[39;00m name \u001b[38;5;129;01mis\u001b[39;00m \u001b[38;5;129;01mnot\u001b[39;00m lib\u001b[38;5;241m.\u001b[39mNoDefault \u001b[38;5;28;01melse\u001b[39;00m \u001b[38;5;28;01mNone\u001b[39;00m \u001b[38;5;28;01mfor\u001b[39;00m name \u001b[38;5;129;01min\u001b[39;00m result\u001b[38;5;241m.\u001b[39mindex\u001b[38;5;241m.\u001b[39mnames\n\u001b[1;32m    560\u001b[0m ]\n\u001b[1;32m    562\u001b[0m \u001b[38;5;28;01mreturn\u001b[39;00m result\n",
      "File \u001b[0;32m~/anaconda3/lib/python3.11/site-packages/pandas/core/series.py:4313\u001b[0m, in \u001b[0;36mSeries.unstack\u001b[0;34m(self, level, fill_value)\u001b[0m\n\u001b[1;32m   4270\u001b[0m \u001b[38;5;250m\u001b[39m\u001b[38;5;124;03m\"\"\"\u001b[39;00m\n\u001b[1;32m   4271\u001b[0m \u001b[38;5;124;03mUnstack, also known as pivot, Series with MultiIndex to produce DataFrame.\u001b[39;00m\n\u001b[1;32m   4272\u001b[0m \n\u001b[0;32m   (...)\u001b[0m\n\u001b[1;32m   4309\u001b[0m \u001b[38;5;124;03mb    2    4\u001b[39;00m\n\u001b[1;32m   4310\u001b[0m \u001b[38;5;124;03m\"\"\"\u001b[39;00m\n\u001b[1;32m   4311\u001b[0m \u001b[38;5;28;01mfrom\u001b[39;00m \u001b[38;5;21;01mpandas\u001b[39;00m\u001b[38;5;21;01m.\u001b[39;00m\u001b[38;5;21;01mcore\u001b[39;00m\u001b[38;5;21;01m.\u001b[39;00m\u001b[38;5;21;01mreshape\u001b[39;00m\u001b[38;5;21;01m.\u001b[39;00m\u001b[38;5;21;01mreshape\u001b[39;00m \u001b[38;5;28;01mimport\u001b[39;00m unstack\n\u001b[0;32m-> 4313\u001b[0m \u001b[38;5;28;01mreturn\u001b[39;00m unstack(\u001b[38;5;28mself\u001b[39m, level, fill_value)\n",
      "File \u001b[0;32m~/anaconda3/lib/python3.11/site-packages/pandas/core/reshape/reshape.py:488\u001b[0m, in \u001b[0;36munstack\u001b[0;34m(obj, level, fill_value)\u001b[0m\n\u001b[1;32m    486\u001b[0m \u001b[38;5;28;01mif\u001b[39;00m is_1d_only_ea_dtype(obj\u001b[38;5;241m.\u001b[39mdtype):\n\u001b[1;32m    487\u001b[0m     \u001b[38;5;28;01mreturn\u001b[39;00m _unstack_extension_series(obj, level, fill_value)\n\u001b[0;32m--> 488\u001b[0m unstacker \u001b[38;5;241m=\u001b[39m _Unstacker(\n\u001b[1;32m    489\u001b[0m     obj\u001b[38;5;241m.\u001b[39mindex, level\u001b[38;5;241m=\u001b[39mlevel, constructor\u001b[38;5;241m=\u001b[39mobj\u001b[38;5;241m.\u001b[39m_constructor_expanddim\n\u001b[1;32m    490\u001b[0m )\n\u001b[1;32m    491\u001b[0m \u001b[38;5;28;01mreturn\u001b[39;00m unstacker\u001b[38;5;241m.\u001b[39mget_result(\n\u001b[1;32m    492\u001b[0m     obj\u001b[38;5;241m.\u001b[39m_values, value_columns\u001b[38;5;241m=\u001b[39m\u001b[38;5;28;01mNone\u001b[39;00m, fill_value\u001b[38;5;241m=\u001b[39mfill_value\n\u001b[1;32m    493\u001b[0m )\n",
      "File \u001b[0;32m~/anaconda3/lib/python3.11/site-packages/pandas/core/reshape/reshape.py:136\u001b[0m, in \u001b[0;36m_Unstacker.__init__\u001b[0;34m(self, index, level, constructor)\u001b[0m\n\u001b[1;32m    128\u001b[0m \u001b[38;5;28;01mif\u001b[39;00m num_cells \u001b[38;5;241m>\u001b[39m np\u001b[38;5;241m.\u001b[39miinfo(np\u001b[38;5;241m.\u001b[39mint32)\u001b[38;5;241m.\u001b[39mmax:\n\u001b[1;32m    129\u001b[0m     warnings\u001b[38;5;241m.\u001b[39mwarn(\n\u001b[1;32m    130\u001b[0m         \u001b[38;5;124mf\u001b[39m\u001b[38;5;124m\"\u001b[39m\u001b[38;5;124mThe following operation may generate \u001b[39m\u001b[38;5;132;01m{\u001b[39;00mnum_cells\u001b[38;5;132;01m}\u001b[39;00m\u001b[38;5;124m cells \u001b[39m\u001b[38;5;124m\"\u001b[39m\n\u001b[1;32m    131\u001b[0m         \u001b[38;5;124mf\u001b[39m\u001b[38;5;124m\"\u001b[39m\u001b[38;5;124min the resulting pandas object.\u001b[39m\u001b[38;5;124m\"\u001b[39m,\n\u001b[1;32m    132\u001b[0m         PerformanceWarning,\n\u001b[1;32m    133\u001b[0m         stacklevel\u001b[38;5;241m=\u001b[39mfind_stack_level(),\n\u001b[1;32m    134\u001b[0m     )\n\u001b[0;32m--> 136\u001b[0m \u001b[38;5;28mself\u001b[39m\u001b[38;5;241m.\u001b[39m_make_selectors()\n",
      "File \u001b[0;32m~/anaconda3/lib/python3.11/site-packages/pandas/core/reshape/reshape.py:188\u001b[0m, in \u001b[0;36m_Unstacker._make_selectors\u001b[0;34m(self)\u001b[0m\n\u001b[1;32m    185\u001b[0m mask\u001b[38;5;241m.\u001b[39mput(selector, \u001b[38;5;28;01mTrue\u001b[39;00m)\n\u001b[1;32m    187\u001b[0m \u001b[38;5;28;01mif\u001b[39;00m mask\u001b[38;5;241m.\u001b[39msum() \u001b[38;5;241m<\u001b[39m \u001b[38;5;28mlen\u001b[39m(\u001b[38;5;28mself\u001b[39m\u001b[38;5;241m.\u001b[39mindex):\n\u001b[0;32m--> 188\u001b[0m     \u001b[38;5;28;01mraise\u001b[39;00m \u001b[38;5;167;01mValueError\u001b[39;00m(\u001b[38;5;124m\"\u001b[39m\u001b[38;5;124mIndex contains duplicate entries, cannot reshape\u001b[39m\u001b[38;5;124m\"\u001b[39m)\n\u001b[1;32m    190\u001b[0m \u001b[38;5;28mself\u001b[39m\u001b[38;5;241m.\u001b[39mgroup_index \u001b[38;5;241m=\u001b[39m comp_index\n\u001b[1;32m    191\u001b[0m \u001b[38;5;28mself\u001b[39m\u001b[38;5;241m.\u001b[39mmask \u001b[38;5;241m=\u001b[39m mask\n",
      "\u001b[0;31mValueError\u001b[0m: Index contains duplicate entries, cannot reshape"
     ]
    }
   ],
   "source": [
    "import seaborn as sns\n",
    "\n",
    "# Convert predictions to DataFrame\n",
    "df_predictions = pd.DataFrame(predictions, columns=['uid', 'iid', 'actual', 'predicted', 'details'])\n",
    "\n",
    "# Pivot predictions DataFrame to create a user-item matrix\n",
    "predicted_matrix = df_predictions.pivot(index='uid', columns='iid', values='predicted')\n",
    "\n",
    "# Create heatmap of predicted ratings\n",
    "plt.figure(figsize=(10, 8))\n",
    "sns.heatmap(predicted_matrix, cmap='viridis', cbar=True, linewidths=0.5)\n",
    "plt.xlabel('Item ID')\n",
    "plt.ylabel('User ID')\n",
    "plt.title('Predicted Ratings Heatmap')\n",
    "plt.show()\n",
    "\n"
   ]
  },
  {
   "cell_type": "code",
   "execution_count": null,
   "id": "3972b9ae",
   "metadata": {},
   "outputs": [],
   "source": []
  }
 ],
 "metadata": {
  "kernelspec": {
   "display_name": "Python 3 (ipykernel)",
   "language": "python",
   "name": "python3"
  },
  "language_info": {
   "codemirror_mode": {
    "name": "ipython",
    "version": 3
   },
   "file_extension": ".py",
   "mimetype": "text/x-python",
   "name": "python",
   "nbconvert_exporter": "python",
   "pygments_lexer": "ipython3",
   "version": "3.11.5"
  }
 },
 "nbformat": 4,
 "nbformat_minor": 5
}

{
 "cells": [
  {
   "cell_type": "markdown",
   "id": "4633bff3",
   "metadata": {},
   "source": [
    "# Anime Recommender - Content-Based Filtering\n",
    "\n",
    "This project aims to build an anime recommender using content-based filtering, a method that recommends items based on the similarity in attributes of the items themselves rather than on the preferences of users.\n",
    "\n",
    "The process of content-based filtering involves the following steps:\n",
    "\n",
    "1. **Feature Extraction:** Extracting relevant features or attributes from the anime data, such as genre, theme, plot summary, and user ratings.\n",
    "\n",
    "2. **Representing Features Mathematically**: We need to represent features such as text in a quantifiable manner for calculating similarity.\n",
    "\n",
    "3. **Similarity Calculation:** Calculating the similarity between the users prefered anime and other anime in the dataset based on their features. This is typically done using similarity measures such as cosine similarity or Euclidean distance.\n",
    "\n",
    "3. **Recommendation Generation:** Generating recommendations by selecting anime that are most similar to the user profile. These recommendations are based on the assumption that if a user liked certain anime in the past, they are likely to enjoy anime that are similar in terms of features.\n",
    "\n",
    "Unlike collaborative filtering, content-based filtering does not rely on user interactions or similarities between users' preferences; instead, it focuses solely on the attributes of the items themselves. Hence suitable for use when there is a lack of user item interactions like rating.\n"
   ]
  },
  {
   "cell_type": "markdown",
   "id": "b40954a7",
   "metadata": {},
   "source": [
    "## Import required libraries"
   ]
  },
  {
   "cell_type": "code",
   "execution_count": 26,
   "id": "d1378bd2",
   "metadata": {},
   "outputs": [],
   "source": [
    "import pandas as pd\n",
    "from sklearn.feature_extraction.text import TfidfVectorizer\n",
    "from sklearn.metrics.pairwise import cosine_similarity\n"
   ]
  },
  {
   "cell_type": "markdown",
   "id": "5b35ae38",
   "metadata": {},
   "source": [
    "## Import cleaned dataset"
   ]
  },
  {
   "cell_type": "code",
   "execution_count": 12,
   "id": "00837934",
   "metadata": {},
   "outputs": [
    {
     "name": "stdout",
     "output_type": "stream",
     "text": [
      "anime_data\n",
      "Index(['uid', 'title', 'synopsis', 'genre', 'aired', 'episodes', 'members',\n",
      "       'popularity', 'score'],\n",
      "      dtype='object')\n"
     ]
    }
   ],
   "source": [
    "\n",
    "anime_data = pd.read_csv(\"datasets/anime_2020_clean.csv\")\n",
    "anime_uid_list = anime_data.uid.unique()\n",
    "\n",
    "\n",
    "print(\"anime_data\")\n",
    "print(anime_data.columns)\n"
   ]
  },
  {
   "cell_type": "markdown",
   "id": "1c199263",
   "metadata": {},
   "source": [
    "\n",
    "## 1. Feature Abstraction\n",
    "\n",
    "For content-based filtering, we'll use **'synopsis'** and **'genre'** as features.  \n",
    "\n",
    "Before proceeding, let's clean the **'name'** column by removing special characters.\n"
   ]
  },
  {
   "cell_type": "code",
   "execution_count": 14,
   "id": "5aaa5f86",
   "metadata": {},
   "outputs": [
    {
     "name": "stdout",
     "output_type": "stream",
     "text": [
      "Selected Features:\n",
      "   uid                            title  \\\n",
      "0    1                     Cowboy Bebop   \n",
      "1    5  Cowboy Bebop: Tengoku no Tobira   \n",
      "2    6                           Trigun   \n",
      "3    7               Witch Hunter Robin   \n",
      "4    8                   Bouken Ou Beet   \n",
      "\n",
      "                                            synopsis  \\\n",
      "0  In the year 2071, humanity has colonized sever...   \n",
      "1  Another day, another bounty—such is the life o...   \n",
      "2  Vash the Stampede is the man with a $$60,000,0...   \n",
      "3  Witches are individuals with special powers li...   \n",
      "4  It is the dark century and the people are suff...   \n",
      "\n",
      "                                               genre  \n",
      "0  ['Action', 'Adventure', 'Comedy', 'Drama', 'Sc...  \n",
      "1  ['Action', 'Drama', 'Mystery', 'Sci-Fi', 'Space']  \n",
      "2  ['Action', 'Sci-Fi', 'Adventure', 'Comedy', 'D...  \n",
      "3  ['Action', 'Magic', 'Police', 'Supernatural', ...  \n",
      "4  ['Adventure', 'Fantasy', 'Shounen', 'Supernatu...  \n"
     ]
    }
   ],
   "source": [
    "\n",
    "anime_features = anime_data[['uid', 'title', 'synopsis', 'genre']]\n",
    "\n",
    "def text_cleaning(text):\n",
    "    text = re.sub(r'&quot;', '', text)\n",
    "    text = re.sub(r'.hack//', '', text)\n",
    "    text = re.sub(r'&#039;', '', text)\n",
    "    text = re.sub(r'A&#039;s', '', text)\n",
    "    text = re.sub(r'I&#039;', 'I\\'', text)\n",
    "    text = re.sub(r'&amp;', 'and', text)\n",
    "    return text\n",
    "\n",
    "anime_data['synopsis'] = anime_data['synopsis'].apply(text_cleaning)\n",
    "print(\"synopsis column cleaned.\")\n",
    "print()\n",
    "\n",
    "\n",
    "\n",
    "print(\"Selected Features:\")\n",
    "print(anime_features.head())\n",
    "\n",
    "# We got this cleaning function from: https://www.kaggle.com/indralin/try-content-based-and-collaborative-filtering\n"
   ]
  },
  {
   "cell_type": "markdown",
   "id": "c8910eff",
   "metadata": {},
   "source": [
    "\n",
    "## 2. Representing features mathematically\n",
    "\n",
    "We will be using **Term Frequency (TF) and Inverse Document Frequency (IDF)**.\n",
    "\n",
    "TF-IDF (Term Frequency-Inverse Document Frequency) is a technique to quantify the importance of terms in a document.\n",
    "\n",
    "We'll use it to convert text-based features ('synopsis' + 'genre') into numerical vectors."
   ]
  },
  {
   "cell_type": "code",
   "execution_count": 16,
   "id": "f002894d",
   "metadata": {},
   "outputs": [
    {
     "name": "stdout",
     "output_type": "stream",
     "text": [
      "TF-IDF Matrix Shape: (8094, 34325)\n",
      "\n"
     ]
    }
   ],
   "source": [
    "\n",
    "tfidf_vectorizer = TfidfVectorizer(stop_words='english')\n",
    "tfidf_matrix = tfidf_vectorizer.fit_transform(anime_features['synopsis'] + ' ' + anime_features['genre'])\n",
    "print(\"TF-IDF Matrix Shape:\", tfidf_matrix.shape)\n",
    "print()"
   ]
  },
  {
   "cell_type": "markdown",
   "id": "df6421a8",
   "metadata": {},
   "source": [
    "\n",
    "## 3. Calculating similarity (model fitting)\n",
    "\n",
    "We'll calculate the cosine similarity between anime titles based on their TF-IDF vectors."
   ]
  },
  {
   "cell_type": "code",
   "execution_count": 20,
   "id": "fb9cb27b",
   "metadata": {},
   "outputs": [
    {
     "name": "stdout",
     "output_type": "stream",
     "text": [
      "Cosine Similarity Matrix Shape: (8094, 8094)\n"
     ]
    }
   ],
   "source": [
    "\n",
    "# Step 3: Similarity Calculation\n",
    "cosine_sim = cosine_similarity(tfidf_matrix, tfidf_matrix)\n",
    "print(\"Cosine Similarity Matrix Shape:\", cosine_sim.shape)\n"
   ]
  },
  {
   "cell_type": "markdown",
   "id": "ac64563e",
   "metadata": {},
   "source": [
    "\n",
    "## 4. Generating recommendations\n",
    "\n",
    "With the model we fitted, we can now use it to generate recommendations."
   ]
  },
  {
   "cell_type": "code",
   "execution_count": 21,
   "id": "95649008",
   "metadata": {},
   "outputs": [],
   "source": [
    "def get_recommendations(title, cosine_sim=cosine_sim):\n",
    "    \n",
    "    # Get the index of the anime title\n",
    "    idx = anime_features[anime_features['title'] == title].index[0]\n",
    "    \n",
    "    # Get similarity scores of other animes\n",
    "    sim_scores = list(enumerate(cosine_sim[idx]))\n",
    "    \n",
    "    # Sort the animes based on similarity\n",
    "    sim_scores = sorted(sim_scores, key=lambda x: x[1], reverse=True)\n",
    "    \n",
    "    # Get the top 10 most similar anime titles\n",
    "    sim_scores = sim_scores[1:11]\n",
    "    \n",
    "    # Get the anime indices\n",
    "    anime_indices = [i[0] for i in sim_scores]\n",
    "    \n",
    "    # Return the top 10 most similar anime titles\n",
    "    return anime_features['title'].iloc[anime_indices]"
   ]
  },
  {
   "cell_type": "code",
   "execution_count": 22,
   "id": "fe49f979",
   "metadata": {},
   "outputs": [
    {
     "name": "stdout",
     "output_type": "stream",
     "text": [
      "1                       Cowboy Bebop: Tengoku no Tobira\n",
      "2850                               Ginga Senpuu Braiger\n",
      "355                           Seihou Bukyou Outlaw Star\n",
      "2774                    Cowboy Bebop: Yose Atsume Blues\n",
      "1207                         Sol Bianca: Taiyou no Fune\n",
      "1087                      Odin: Koushi Hansen Starlight\n",
      "90                                    Uchuu no Stellvia\n",
      "2121      Ginga Tetsudou Monogatari: Eien e no Bunkiten\n",
      "3289                              Uchuu Kuubo Blue Noah\n",
      "7387    Ginga Eiyuu Densetsu: Die Neue These - Seiran 2\n",
      "Name: title, dtype: object\n"
     ]
    }
   ],
   "source": [
    "recommended_anime = get_recommendations('Cowboy Bebop')\n",
    "print(recommended_anime)\n",
    "# anime_features['title']\n"
   ]
  },
  {
   "cell_type": "markdown",
   "id": "f4d2d4ac",
   "metadata": {},
   "source": [
    "\n",
    "# Interacting with the recommendation system\n"
   ]
  },
  {
   "cell_type": "code",
   "execution_count": 25,
   "id": "18791b81",
   "metadata": {},
   "outputs": [
    {
     "name": "stdout",
     "output_type": "stream",
     "text": [
      "Enter keywords or partial title of the anime you're looking for: hunter\n",
      "Matching Anime Titles:\n",
      "\n",
      "1. Witch Hunter Robin\n",
      "2. Hunter x Hunter\n",
      "3. Hunter x Hunter: Yorkshin City Kanketsu-hen\n",
      "4. Hunter x Hunter: Greed Island\n",
      "5. Hunter x Hunter: Greed Island Final\n",
      "6. Bakuretsu Hunters\n",
      "7. Vampire Hunter D (2000)\n",
      "8. Vampire Hunter D\n",
      "9. Bio Hunter\n",
      "10. Mamono Hunter Youko\n",
      "11. City Hunter\n",
      "12. City Hunter 2\n",
      "13. City Hunter 3\n",
      "14. City Hunter: Ai to Shukumei no Magnum\n",
      "15. City Hunter: Goodbye My Sweetheart\n",
      "Enter the number corresponding to the anime you want to choose (or 'exit' to quit): 11\n",
      "Selected Anime: City Hunter\n",
      "\n",
      "Recommended Anime:\n",
      "1226                                        City Hunter 2\n",
      "1227                                        City Hunter 3\n",
      "1229                   City Hunter: Goodbye My Sweetheart\n",
      "248                                           Angel Heart\n",
      "1230    City Hunter: Kinkyuu Namachuukei!? Kyouakuhan ...\n",
      "7646             City Hunter Movie: Shinjuku Private Eyes\n",
      "322                                                  Fake\n",
      "5397                                   Isshuukan Friends.\n",
      "1228                City Hunter: Ai to Shukumei no Magnum\n",
      "2936                                        Yakata Jukujo\n",
      "Name: title, dtype: object\n"
     ]
    }
   ],
   "source": [
    "def search_anime(keyword, anime_data):\n",
    "    matches = anime_data[anime_data['title'].str.contains(keyword, case=False)]\n",
    "    \n",
    "    if len(matches) == 0:\n",
    "        print(\"No matching anime found.\")\n",
    "        return None\n",
    "    \n",
    "    print(\"Matching Anime Titles:\\n\")\n",
    "    for i, title in enumerate(matches['title'].head(15), start=1):\n",
    "        print(f\"{i}. {title}\")\n",
    "    \n",
    "    # Ask user to choose an anime\n",
    "    while True:\n",
    "        choice = input(\"Enter the number corresponding to the anime you want to choose (or 'exit' to quit): \")\n",
    "        \n",
    "        if choice.lower() == 'exit':\n",
    "            return None\n",
    "        \n",
    "        try:\n",
    "            choice_idx = int(choice) - 1\n",
    "            if choice_idx < 0 or choice_idx >= len(matches):\n",
    "                raise ValueError\n",
    "            selected_anime = matches.iloc[choice_idx]['title']\n",
    "            return selected_anime\n",
    "        except ValueError:\n",
    "            print(\"Invalid input. Please enter a valid number.\")\n",
    "\n",
    "\n",
    "keyword = input(\"Enter keywords or partial title of the anime you're looking for: \")\n",
    "selected_anime = search_anime(keyword, anime_data)\n",
    "\n",
    "if selected_anime:\n",
    "    print(f\"Selected Anime: {selected_anime}\")\n",
    "    recommended_anime = get_recommendations(selected_anime)\n",
    "    print(\"\\nRecommended Anime:\")\n",
    "    print(recommended_anime)\n"
   ]
  },
  {
   "cell_type": "code",
   "execution_count": null,
   "id": "a6d6699a",
   "metadata": {},
   "outputs": [],
   "source": []
  }
 ],
 "metadata": {
  "kernelspec": {
   "display_name": "Python 3 (ipykernel)",
   "language": "python",
   "name": "python3"
  },
  "language_info": {
   "codemirror_mode": {
    "name": "ipython",
    "version": 3
   },
   "file_extension": ".py",
   "mimetype": "text/x-python",
   "name": "python",
   "nbconvert_exporter": "python",
   "pygments_lexer": "ipython3",
   "version": "3.11.5"
  }
 },
 "nbformat": 4,
 "nbformat_minor": 5
}
